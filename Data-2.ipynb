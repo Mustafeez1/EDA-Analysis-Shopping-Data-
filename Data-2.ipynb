{
 "cells": [
  {
   "cell_type": "code",
   "execution_count": 3,
   "id": "4de3cc6d-f720-44c0-8a3b-f45bc74f62f5",
   "metadata": {
    "tags": []
   },
   "outputs": [],
   "source": [
    "import pandas as pd\n",
    "import numpy as np\n",
    "import seaborn as sns\n",
    "import matplotlib.pyplot as plt"
   ]
  },
  {
   "cell_type": "code",
   "execution_count": 4,
   "id": "55b3ea5e-6ef5-49f3-9ac9-c9f56369f5a1",
   "metadata": {
    "tags": []
   },
   "outputs": [
    {
     "data": {
      "text/html": [
       "<div>\n",
       "<style scoped>\n",
       "    .dataframe tbody tr th:only-of-type {\n",
       "        vertical-align: middle;\n",
       "    }\n",
       "\n",
       "    .dataframe tbody tr th {\n",
       "        vertical-align: top;\n",
       "    }\n",
       "\n",
       "    .dataframe thead th {\n",
       "        text-align: right;\n",
       "    }\n",
       "</style>\n",
       "<table border=\"1\" class=\"dataframe\">\n",
       "  <thead>\n",
       "    <tr style=\"text-align: right;\">\n",
       "      <th></th>\n",
       "      <th>InvoiceNo</th>\n",
       "      <th>StockCode</th>\n",
       "      <th>Description</th>\n",
       "      <th>Quantity</th>\n",
       "      <th>InvoiceDate</th>\n",
       "      <th>UnitPrice</th>\n",
       "      <th>CustomerID</th>\n",
       "      <th>Country</th>\n",
       "    </tr>\n",
       "  </thead>\n",
       "  <tbody>\n",
       "    <tr>\n",
       "      <th>0</th>\n",
       "      <td>536365</td>\n",
       "      <td>85123A</td>\n",
       "      <td>WHITE HANGING HEART T-LIGHT HOLDER</td>\n",
       "      <td>6</td>\n",
       "      <td>12/1/2010 8:26</td>\n",
       "      <td>2.55</td>\n",
       "      <td>17850.0</td>\n",
       "      <td>United Kingdom</td>\n",
       "    </tr>\n",
       "    <tr>\n",
       "      <th>1</th>\n",
       "      <td>536365</td>\n",
       "      <td>71053</td>\n",
       "      <td>WHITE METAL LANTERN</td>\n",
       "      <td>6</td>\n",
       "      <td>12/1/2010 8:26</td>\n",
       "      <td>3.39</td>\n",
       "      <td>17850.0</td>\n",
       "      <td>United Kingdom</td>\n",
       "    </tr>\n",
       "    <tr>\n",
       "      <th>2</th>\n",
       "      <td>536365</td>\n",
       "      <td>84406B</td>\n",
       "      <td>CREAM CUPID HEARTS COAT HANGER</td>\n",
       "      <td>8</td>\n",
       "      <td>12/1/2010 8:26</td>\n",
       "      <td>2.75</td>\n",
       "      <td>17850.0</td>\n",
       "      <td>United Kingdom</td>\n",
       "    </tr>\n",
       "    <tr>\n",
       "      <th>3</th>\n",
       "      <td>536365</td>\n",
       "      <td>84029G</td>\n",
       "      <td>KNITTED UNION FLAG HOT WATER BOTTLE</td>\n",
       "      <td>6</td>\n",
       "      <td>12/1/2010 8:26</td>\n",
       "      <td>3.39</td>\n",
       "      <td>17850.0</td>\n",
       "      <td>United Kingdom</td>\n",
       "    </tr>\n",
       "    <tr>\n",
       "      <th>4</th>\n",
       "      <td>536365</td>\n",
       "      <td>84029E</td>\n",
       "      <td>RED WOOLLY HOTTIE WHITE HEART.</td>\n",
       "      <td>6</td>\n",
       "      <td>12/1/2010 8:26</td>\n",
       "      <td>3.39</td>\n",
       "      <td>17850.0</td>\n",
       "      <td>United Kingdom</td>\n",
       "    </tr>\n",
       "  </tbody>\n",
       "</table>\n",
       "</div>"
      ],
      "text/plain": [
       "  InvoiceNo StockCode                          Description  Quantity  \\\n",
       "0    536365    85123A   WHITE HANGING HEART T-LIGHT HOLDER         6   \n",
       "1    536365     71053                  WHITE METAL LANTERN         6   \n",
       "2    536365    84406B       CREAM CUPID HEARTS COAT HANGER         8   \n",
       "3    536365    84029G  KNITTED UNION FLAG HOT WATER BOTTLE         6   \n",
       "4    536365    84029E       RED WOOLLY HOTTIE WHITE HEART.         6   \n",
       "\n",
       "      InvoiceDate  UnitPrice  CustomerID         Country  \n",
       "0  12/1/2010 8:26       2.55     17850.0  United Kingdom  \n",
       "1  12/1/2010 8:26       3.39     17850.0  United Kingdom  \n",
       "2  12/1/2010 8:26       2.75     17850.0  United Kingdom  \n",
       "3  12/1/2010 8:26       3.39     17850.0  United Kingdom  \n",
       "4  12/1/2010 8:26       3.39     17850.0  United Kingdom  "
      ]
     },
     "execution_count": 4,
     "metadata": {},
     "output_type": "execute_result"
    }
   ],
   "source": [
    "df = pd.read_csv('data-2.csv', encoding='ISO-8859-1') \n",
    "df.head()"
   ]
  },
  {
   "cell_type": "markdown",
   "id": "75decb54-4d4e-4a61-b16a-fbdb2e4f8ca3",
   "metadata": {
    "tags": []
   },
   "source": [
    "## Dimensions of the data"
   ]
  },
  {
   "cell_type": "code",
   "execution_count": 6,
   "id": "c3f7c339-5fc4-4ba6-ac80-4596d887826d",
   "metadata": {
    "tags": []
   },
   "outputs": [
    {
     "data": {
      "text/plain": [
       "(541909, 8)"
      ]
     },
     "execution_count": 6,
     "metadata": {},
     "output_type": "execute_result"
    }
   ],
   "source": [
    "df.shape"
   ]
  },
  {
   "cell_type": "markdown",
   "id": "e0b83cb7-793f-4ead-adea-a86c804b2e43",
   "metadata": {
    "tags": []
   },
   "source": [
    "## what is the data type of the cols."
   ]
  },
  {
   "cell_type": "code",
   "execution_count": 11,
   "id": "aed7395f-6c67-43ac-9e01-76444a7a2ea0",
   "metadata": {
    "tags": []
   },
   "outputs": [
    {
     "name": "stdout",
     "output_type": "stream",
     "text": [
      "<class 'pandas.core.frame.DataFrame'>\n",
      "RangeIndex: 541909 entries, 0 to 541908\n",
      "Data columns (total 8 columns):\n",
      " #   Column       Non-Null Count   Dtype  \n",
      "---  ------       --------------   -----  \n",
      " 0   InvoiceNo    541909 non-null  object \n",
      " 1   StockCode    541909 non-null  object \n",
      " 2   Description  540455 non-null  object \n",
      " 3   Quantity     541909 non-null  int64  \n",
      " 4   InvoiceDate  541909 non-null  object \n",
      " 5   UnitPrice    541909 non-null  float64\n",
      " 6   CustomerID   406829 non-null  float64\n",
      " 7   Country      541909 non-null  object \n",
      "dtypes: float64(2), int64(1), object(5)\n",
      "memory usage: 33.1+ MB\n"
     ]
    }
   ],
   "source": [
    "df.info()"
   ]
  },
  {
   "cell_type": "markdown",
   "id": "215a60c3-4804-46c6-8d02-06664d3f10c2",
   "metadata": {
    "tags": []
   },
   "source": [
    "## Finding that there are any missing values or not.."
   ]
  },
  {
   "cell_type": "code",
   "execution_count": 14,
   "id": "40e7462b-3120-46c5-96b6-d2b2882d53f8",
   "metadata": {
    "tags": []
   },
   "outputs": [
    {
     "data": {
      "text/plain": [
       "InvoiceNo           0\n",
       "StockCode           0\n",
       "Description      1454\n",
       "Quantity            0\n",
       "InvoiceDate         0\n",
       "UnitPrice           0\n",
       "CustomerID     135080\n",
       "Country             0\n",
       "dtype: int64"
      ]
     },
     "execution_count": 14,
     "metadata": {},
     "output_type": "execute_result"
    }
   ],
   "source": [
    "df.isna().sum()"
   ]
  },
  {
   "cell_type": "markdown",
   "id": "90cb5326-e86f-45a3-873a-9f62fd89e9dc",
   "metadata": {
    "tags": []
   },
   "source": [
    "## Finding duplicate values"
   ]
  },
  {
   "cell_type": "code",
   "execution_count": 17,
   "id": "de6d758c-34f8-4e14-8504-aa0dabb3bd76",
   "metadata": {
    "tags": []
   },
   "outputs": [
    {
     "data": {
      "text/plain": [
       "5268"
      ]
     },
     "execution_count": 17,
     "metadata": {},
     "output_type": "execute_result"
    }
   ],
   "source": [
    "df.duplicated().sum()"
   ]
  },
  {
   "cell_type": "markdown",
   "id": "52ff8587-1c0c-4e18-b7e0-068f7ad209f5",
   "metadata": {
    "tags": []
   },
   "source": [
    "## finding null values percentage\n"
   ]
  },
  {
   "cell_type": "code",
   "execution_count": 20,
   "id": "30622ca3-2d4a-4853-a635-9a18db52f9b7",
   "metadata": {
    "tags": []
   },
   "outputs": [
    {
     "data": {
      "text/plain": [
       "InvoiceNo       0.000000\n",
       "StockCode       0.000000\n",
       "Description     0.268311\n",
       "Quantity        0.000000\n",
       "InvoiceDate     0.000000\n",
       "UnitPrice       0.000000\n",
       "CustomerID     24.926694\n",
       "Country         0.000000\n",
       "dtype: float64"
      ]
     },
     "execution_count": 20,
     "metadata": {},
     "output_type": "execute_result"
    }
   ],
   "source": [
    "df.isnull().sum() * 100/len(df)"
   ]
  },
  {
   "cell_type": "markdown",
   "id": "82510a75-1694-459e-a5b0-8f756ba60088",
   "metadata": {
    "tags": []
   },
   "source": [
    "## Imputing null values"
   ]
  },
  {
   "cell_type": "code",
   "execution_count": 23,
   "id": "b284fc85-bae4-4989-97f6-0b09d7a073ca",
   "metadata": {
    "tags": []
   },
   "outputs": [],
   "source": [
    "# Since description is a categorical column filling it with mode\n",
    "mode_value = df['Description'].mode()[0]\n",
    "df['Description'].fillna(mode_value, axis = 0, inplace = True)"
   ]
  },
  {
   "cell_type": "code",
   "execution_count": 25,
   "id": "cdc9bd73-2eef-4f13-b853-085ff696c4cc",
   "metadata": {
    "tags": []
   },
   "outputs": [
    {
     "data": {
      "text/plain": [
       "InvoiceNo           0\n",
       "StockCode           0\n",
       "Description         0\n",
       "Quantity            0\n",
       "InvoiceDate         0\n",
       "UnitPrice           0\n",
       "CustomerID     135080\n",
       "Country             0\n",
       "dtype: int64"
      ]
     },
     "execution_count": 25,
     "metadata": {},
     "output_type": "execute_result"
    }
   ],
   "source": [
    "df.isna().sum()"
   ]
  },
  {
   "cell_type": "code",
   "execution_count": 27,
   "id": "37067f4c-bb80-4c47-8f0f-1e69483e06c7",
   "metadata": {
    "tags": []
   },
   "outputs": [
    {
     "data": {
      "text/html": [
       "<div>\n",
       "<style scoped>\n",
       "    .dataframe tbody tr th:only-of-type {\n",
       "        vertical-align: middle;\n",
       "    }\n",
       "\n",
       "    .dataframe tbody tr th {\n",
       "        vertical-align: top;\n",
       "    }\n",
       "\n",
       "    .dataframe thead th {\n",
       "        text-align: right;\n",
       "    }\n",
       "</style>\n",
       "<table border=\"1\" class=\"dataframe\">\n",
       "  <thead>\n",
       "    <tr style=\"text-align: right;\">\n",
       "      <th></th>\n",
       "      <th>InvoiceNo</th>\n",
       "      <th>StockCode</th>\n",
       "      <th>Description</th>\n",
       "      <th>Quantity</th>\n",
       "      <th>InvoiceDate</th>\n",
       "      <th>UnitPrice</th>\n",
       "      <th>CustomerID</th>\n",
       "      <th>Country</th>\n",
       "    </tr>\n",
       "  </thead>\n",
       "  <tbody>\n",
       "    <tr>\n",
       "      <th>211748</th>\n",
       "      <td>555397</td>\n",
       "      <td>22147</td>\n",
       "      <td>FELTCRAFT BUTTERFLY HEARTS</td>\n",
       "      <td>3</td>\n",
       "      <td>6/2/2011 17:26</td>\n",
       "      <td>3.29</td>\n",
       "      <td>NaN</td>\n",
       "      <td>United Kingdom</td>\n",
       "    </tr>\n",
       "    <tr>\n",
       "      <th>183647</th>\n",
       "      <td>552666</td>\n",
       "      <td>20658</td>\n",
       "      <td>RED RETROSPOT LUGGAGE TAG</td>\n",
       "      <td>2</td>\n",
       "      <td>5/10/2011 15:05</td>\n",
       "      <td>2.46</td>\n",
       "      <td>NaN</td>\n",
       "      <td>United Kingdom</td>\n",
       "    </tr>\n",
       "    <tr>\n",
       "      <th>104297</th>\n",
       "      <td>545162</td>\n",
       "      <td>21497</td>\n",
       "      <td>FANCY FONTS BIRTHDAY WRAP</td>\n",
       "      <td>25</td>\n",
       "      <td>2/28/2011 13:35</td>\n",
       "      <td>0.42</td>\n",
       "      <td>16187.0</td>\n",
       "      <td>United Kingdom</td>\n",
       "    </tr>\n",
       "    <tr>\n",
       "      <th>345273</th>\n",
       "      <td>567158</td>\n",
       "      <td>22585</td>\n",
       "      <td>PACK OF 6 BIRDY GIFT TAGS</td>\n",
       "      <td>1</td>\n",
       "      <td>9/16/2011 17:39</td>\n",
       "      <td>1.25</td>\n",
       "      <td>16878.0</td>\n",
       "      <td>United Kingdom</td>\n",
       "    </tr>\n",
       "    <tr>\n",
       "      <th>65685</th>\n",
       "      <td>541696</td>\n",
       "      <td>22961</td>\n",
       "      <td>JAM MAKING SET PRINTED</td>\n",
       "      <td>1</td>\n",
       "      <td>1/20/2011 18:08</td>\n",
       "      <td>3.29</td>\n",
       "      <td>NaN</td>\n",
       "      <td>United Kingdom</td>\n",
       "    </tr>\n",
       "    <tr>\n",
       "      <th>249161</th>\n",
       "      <td>558888</td>\n",
       "      <td>22378</td>\n",
       "      <td>WALL TIDY RETROSPOT</td>\n",
       "      <td>1</td>\n",
       "      <td>7/4/2011 15:29</td>\n",
       "      <td>2.10</td>\n",
       "      <td>14056.0</td>\n",
       "      <td>United Kingdom</td>\n",
       "    </tr>\n",
       "    <tr>\n",
       "      <th>214643</th>\n",
       "      <td>555593</td>\n",
       "      <td>22729</td>\n",
       "      <td>ALARM CLOCK BAKELIKE ORANGE</td>\n",
       "      <td>4</td>\n",
       "      <td>6/6/2011 10:06</td>\n",
       "      <td>3.75</td>\n",
       "      <td>16298.0</td>\n",
       "      <td>United Kingdom</td>\n",
       "    </tr>\n",
       "    <tr>\n",
       "      <th>411336</th>\n",
       "      <td>572216</td>\n",
       "      <td>21327</td>\n",
       "      <td>SKULLS WRITING SET</td>\n",
       "      <td>2</td>\n",
       "      <td>10/21/2011 12:56</td>\n",
       "      <td>1.65</td>\n",
       "      <td>16015.0</td>\n",
       "      <td>United Kingdom</td>\n",
       "    </tr>\n",
       "    <tr>\n",
       "      <th>235642</th>\n",
       "      <td>557644</td>\n",
       "      <td>84568</td>\n",
       "      <td>GIRLS ALPHABET IRON ON PATCHES</td>\n",
       "      <td>12</td>\n",
       "      <td>6/21/2011 17:06</td>\n",
       "      <td>0.42</td>\n",
       "      <td>NaN</td>\n",
       "      <td>United Kingdom</td>\n",
       "    </tr>\n",
       "    <tr>\n",
       "      <th>269991</th>\n",
       "      <td>560537</td>\n",
       "      <td>84032B</td>\n",
       "      <td>CHARLIE + LOLA RED HOT WATER BOTTLE</td>\n",
       "      <td>2</td>\n",
       "      <td>7/19/2011 12:19</td>\n",
       "      <td>2.95</td>\n",
       "      <td>17779.0</td>\n",
       "      <td>United Kingdom</td>\n",
       "    </tr>\n",
       "  </tbody>\n",
       "</table>\n",
       "</div>"
      ],
      "text/plain": [
       "       InvoiceNo StockCode                          Description  Quantity  \\\n",
       "211748    555397     22147           FELTCRAFT BUTTERFLY HEARTS         3   \n",
       "183647    552666     20658            RED RETROSPOT LUGGAGE TAG         2   \n",
       "104297    545162     21497            FANCY FONTS BIRTHDAY WRAP        25   \n",
       "345273    567158     22585            PACK OF 6 BIRDY GIFT TAGS         1   \n",
       "65685     541696     22961               JAM MAKING SET PRINTED         1   \n",
       "249161    558888     22378                 WALL TIDY RETROSPOT          1   \n",
       "214643    555593     22729          ALARM CLOCK BAKELIKE ORANGE         4   \n",
       "411336    572216     21327                  SKULLS WRITING SET          2   \n",
       "235642    557644     84568      GIRLS ALPHABET IRON ON PATCHES         12   \n",
       "269991    560537    84032B  CHARLIE + LOLA RED HOT WATER BOTTLE         2   \n",
       "\n",
       "             InvoiceDate  UnitPrice  CustomerID         Country  \n",
       "211748    6/2/2011 17:26       3.29         NaN  United Kingdom  \n",
       "183647   5/10/2011 15:05       2.46         NaN  United Kingdom  \n",
       "104297   2/28/2011 13:35       0.42     16187.0  United Kingdom  \n",
       "345273   9/16/2011 17:39       1.25     16878.0  United Kingdom  \n",
       "65685    1/20/2011 18:08       3.29         NaN  United Kingdom  \n",
       "249161    7/4/2011 15:29       2.10     14056.0  United Kingdom  \n",
       "214643    6/6/2011 10:06       3.75     16298.0  United Kingdom  \n",
       "411336  10/21/2011 12:56       1.65     16015.0  United Kingdom  \n",
       "235642   6/21/2011 17:06       0.42         NaN  United Kingdom  \n",
       "269991   7/19/2011 12:19       2.95     17779.0  United Kingdom  "
      ]
     },
     "execution_count": 27,
     "metadata": {},
     "output_type": "execute_result"
    }
   ],
   "source": [
    "df.sample(10)"
   ]
  },
  {
   "cell_type": "code",
   "execution_count": 29,
   "id": "58867287-d698-485f-bbb1-e523bf869196",
   "metadata": {
    "tags": []
   },
   "outputs": [
    {
     "data": {
      "text/html": [
       "<div>\n",
       "<style scoped>\n",
       "    .dataframe tbody tr th:only-of-type {\n",
       "        vertical-align: middle;\n",
       "    }\n",
       "\n",
       "    .dataframe tbody tr th {\n",
       "        vertical-align: top;\n",
       "    }\n",
       "\n",
       "    .dataframe thead th {\n",
       "        text-align: right;\n",
       "    }\n",
       "</style>\n",
       "<table border=\"1\" class=\"dataframe\">\n",
       "  <thead>\n",
       "    <tr style=\"text-align: right;\">\n",
       "      <th></th>\n",
       "      <th>Quantity</th>\n",
       "      <th>UnitPrice</th>\n",
       "      <th>CustomerID</th>\n",
       "    </tr>\n",
       "  </thead>\n",
       "  <tbody>\n",
       "    <tr>\n",
       "      <th>count</th>\n",
       "      <td>541909.000000</td>\n",
       "      <td>541909.000000</td>\n",
       "      <td>406829.000000</td>\n",
       "    </tr>\n",
       "    <tr>\n",
       "      <th>mean</th>\n",
       "      <td>9.552250</td>\n",
       "      <td>4.611114</td>\n",
       "      <td>15287.690570</td>\n",
       "    </tr>\n",
       "    <tr>\n",
       "      <th>std</th>\n",
       "      <td>218.081158</td>\n",
       "      <td>96.759853</td>\n",
       "      <td>1713.600303</td>\n",
       "    </tr>\n",
       "    <tr>\n",
       "      <th>min</th>\n",
       "      <td>-80995.000000</td>\n",
       "      <td>-11062.060000</td>\n",
       "      <td>12346.000000</td>\n",
       "    </tr>\n",
       "    <tr>\n",
       "      <th>25%</th>\n",
       "      <td>1.000000</td>\n",
       "      <td>1.250000</td>\n",
       "      <td>13953.000000</td>\n",
       "    </tr>\n",
       "    <tr>\n",
       "      <th>50%</th>\n",
       "      <td>3.000000</td>\n",
       "      <td>2.080000</td>\n",
       "      <td>15152.000000</td>\n",
       "    </tr>\n",
       "    <tr>\n",
       "      <th>75%</th>\n",
       "      <td>10.000000</td>\n",
       "      <td>4.130000</td>\n",
       "      <td>16791.000000</td>\n",
       "    </tr>\n",
       "    <tr>\n",
       "      <th>max</th>\n",
       "      <td>80995.000000</td>\n",
       "      <td>38970.000000</td>\n",
       "      <td>18287.000000</td>\n",
       "    </tr>\n",
       "  </tbody>\n",
       "</table>\n",
       "</div>"
      ],
      "text/plain": [
       "            Quantity      UnitPrice     CustomerID\n",
       "count  541909.000000  541909.000000  406829.000000\n",
       "mean        9.552250       4.611114   15287.690570\n",
       "std       218.081158      96.759853    1713.600303\n",
       "min    -80995.000000  -11062.060000   12346.000000\n",
       "25%         1.000000       1.250000   13953.000000\n",
       "50%         3.000000       2.080000   15152.000000\n",
       "75%        10.000000       4.130000   16791.000000\n",
       "max     80995.000000   38970.000000   18287.000000"
      ]
     },
     "execution_count": 29,
     "metadata": {},
     "output_type": "execute_result"
    }
   ],
   "source": [
    "df.describe()"
   ]
  },
  {
   "cell_type": "markdown",
   "id": "e5dee469-6156-4133-a376-f49e89c81721",
   "metadata": {
    "tags": []
   },
   "source": [
    "# Filling cutomer id "
   ]
  },
  {
   "cell_type": "code",
   "execution_count": 32,
   "id": "1fd4a387-43ee-4408-a21c-ba665175801f",
   "metadata": {
    "tags": []
   },
   "outputs": [],
   "source": [
    "mean_value = df['CustomerID'].mean()\n",
    "df['CustomerID'].fillna(mean_value, axis = 0, inplace = True)"
   ]
  },
  {
   "cell_type": "code",
   "execution_count": 34,
   "id": "d7570c56-31b4-4e25-98f4-810f20a97d25",
   "metadata": {
    "tags": []
   },
   "outputs": [
    {
     "data": {
      "text/plain": [
       "InvoiceNo      0\n",
       "StockCode      0\n",
       "Description    0\n",
       "Quantity       0\n",
       "InvoiceDate    0\n",
       "UnitPrice      0\n",
       "CustomerID     0\n",
       "Country        0\n",
       "dtype: int64"
      ]
     },
     "execution_count": 34,
     "metadata": {},
     "output_type": "execute_result"
    }
   ],
   "source": [
    "df.isna().sum()"
   ]
  },
  {
   "cell_type": "code",
   "execution_count": 36,
   "id": "a3ab04fe-aed7-41ea-a209-8c439340046d",
   "metadata": {
    "tags": []
   },
   "outputs": [
    {
     "data": {
      "text/html": [
       "<div>\n",
       "<style scoped>\n",
       "    .dataframe tbody tr th:only-of-type {\n",
       "        vertical-align: middle;\n",
       "    }\n",
       "\n",
       "    .dataframe tbody tr th {\n",
       "        vertical-align: top;\n",
       "    }\n",
       "\n",
       "    .dataframe thead th {\n",
       "        text-align: right;\n",
       "    }\n",
       "</style>\n",
       "<table border=\"1\" class=\"dataframe\">\n",
       "  <thead>\n",
       "    <tr style=\"text-align: right;\">\n",
       "      <th></th>\n",
       "      <th>InvoiceNo</th>\n",
       "      <th>StockCode</th>\n",
       "      <th>Description</th>\n",
       "      <th>Quantity</th>\n",
       "      <th>InvoiceDate</th>\n",
       "      <th>UnitPrice</th>\n",
       "      <th>CustomerID</th>\n",
       "      <th>Country</th>\n",
       "    </tr>\n",
       "  </thead>\n",
       "  <tbody>\n",
       "    <tr>\n",
       "      <th>209384</th>\n",
       "      <td>555207</td>\n",
       "      <td>85039C</td>\n",
       "      <td>S/4 BLACK MINI ROSE CANDLE IN BOWL</td>\n",
       "      <td>12</td>\n",
       "      <td>6/1/2011 12:19</td>\n",
       "      <td>1.65</td>\n",
       "      <td>16818.00000</td>\n",
       "      <td>United Kingdom</td>\n",
       "    </tr>\n",
       "    <tr>\n",
       "      <th>422750</th>\n",
       "      <td>573114</td>\n",
       "      <td>20713</td>\n",
       "      <td>wrongly coded 23343</td>\n",
       "      <td>1000</td>\n",
       "      <td>10/27/2011 15:36</td>\n",
       "      <td>0.00</td>\n",
       "      <td>15287.69057</td>\n",
       "      <td>United Kingdom</td>\n",
       "    </tr>\n",
       "    <tr>\n",
       "      <th>68785</th>\n",
       "      <td>541875</td>\n",
       "      <td>22708</td>\n",
       "      <td>WRAP DOLLY GIRL</td>\n",
       "      <td>25</td>\n",
       "      <td>1/24/2011 10:01</td>\n",
       "      <td>0.42</td>\n",
       "      <td>16558.00000</td>\n",
       "      <td>United Kingdom</td>\n",
       "    </tr>\n",
       "    <tr>\n",
       "      <th>351498</th>\n",
       "      <td>567667</td>\n",
       "      <td>22174</td>\n",
       "      <td>PHOTO CUBE</td>\n",
       "      <td>2</td>\n",
       "      <td>9/21/2011 15:24</td>\n",
       "      <td>3.29</td>\n",
       "      <td>15287.69057</td>\n",
       "      <td>United Kingdom</td>\n",
       "    </tr>\n",
       "    <tr>\n",
       "      <th>532059</th>\n",
       "      <td>580983</td>\n",
       "      <td>84915</td>\n",
       "      <td>HAND TOWEL PINK FLOWER AND DAISY</td>\n",
       "      <td>2</td>\n",
       "      <td>12/6/2011 16:26</td>\n",
       "      <td>4.13</td>\n",
       "      <td>15287.69057</td>\n",
       "      <td>United Kingdom</td>\n",
       "    </tr>\n",
       "    <tr>\n",
       "      <th>462515</th>\n",
       "      <td>575978</td>\n",
       "      <td>23472</td>\n",
       "      <td>NINE DRAWER OFFICE TIDY</td>\n",
       "      <td>6</td>\n",
       "      <td>11/13/2011 13:27</td>\n",
       "      <td>12.50</td>\n",
       "      <td>15903.00000</td>\n",
       "      <td>United Kingdom</td>\n",
       "    </tr>\n",
       "    <tr>\n",
       "      <th>34415</th>\n",
       "      <td>539353</td>\n",
       "      <td>21156</td>\n",
       "      <td>RETROSPOT CHILDRENS APRON</td>\n",
       "      <td>8</td>\n",
       "      <td>12/17/2010 11:30</td>\n",
       "      <td>1.95</td>\n",
       "      <td>12782.00000</td>\n",
       "      <td>Portugal</td>\n",
       "    </tr>\n",
       "    <tr>\n",
       "      <th>47367</th>\n",
       "      <td>540412</td>\n",
       "      <td>82494L</td>\n",
       "      <td>WOODEN FRAME ANTIQUE WHITE</td>\n",
       "      <td>6</td>\n",
       "      <td>1/7/2011 10:27</td>\n",
       "      <td>2.95</td>\n",
       "      <td>13842.00000</td>\n",
       "      <td>United Kingdom</td>\n",
       "    </tr>\n",
       "    <tr>\n",
       "      <th>267975</th>\n",
       "      <td>560368</td>\n",
       "      <td>23154</td>\n",
       "      <td>SET OF 4 JAM JAR MAGNETS</td>\n",
       "      <td>1</td>\n",
       "      <td>7/18/2011 12:25</td>\n",
       "      <td>2.08</td>\n",
       "      <td>17841.00000</td>\n",
       "      <td>United Kingdom</td>\n",
       "    </tr>\n",
       "    <tr>\n",
       "      <th>166777</th>\n",
       "      <td>550953</td>\n",
       "      <td>22247</td>\n",
       "      <td>BUNNY DECORATION MAGIC GARDEN</td>\n",
       "      <td>1</td>\n",
       "      <td>4/21/2011 16:17</td>\n",
       "      <td>1.63</td>\n",
       "      <td>15287.69057</td>\n",
       "      <td>United Kingdom</td>\n",
       "    </tr>\n",
       "  </tbody>\n",
       "</table>\n",
       "</div>"
      ],
      "text/plain": [
       "       InvoiceNo StockCode                         Description  Quantity  \\\n",
       "209384    555207    85039C  S/4 BLACK MINI ROSE CANDLE IN BOWL        12   \n",
       "422750    573114     20713                 wrongly coded 23343      1000   \n",
       "68785     541875     22708                     WRAP DOLLY GIRL        25   \n",
       "351498    567667     22174                          PHOTO CUBE         2   \n",
       "532059    580983     84915    HAND TOWEL PINK FLOWER AND DAISY         2   \n",
       "462515    575978     23472             NINE DRAWER OFFICE TIDY         6   \n",
       "34415     539353     21156           RETROSPOT CHILDRENS APRON         8   \n",
       "47367     540412    82494L         WOODEN FRAME ANTIQUE WHITE          6   \n",
       "267975    560368     23154            SET OF 4 JAM JAR MAGNETS         1   \n",
       "166777    550953     22247       BUNNY DECORATION MAGIC GARDEN         1   \n",
       "\n",
       "             InvoiceDate  UnitPrice   CustomerID         Country  \n",
       "209384    6/1/2011 12:19       1.65  16818.00000  United Kingdom  \n",
       "422750  10/27/2011 15:36       0.00  15287.69057  United Kingdom  \n",
       "68785    1/24/2011 10:01       0.42  16558.00000  United Kingdom  \n",
       "351498   9/21/2011 15:24       3.29  15287.69057  United Kingdom  \n",
       "532059   12/6/2011 16:26       4.13  15287.69057  United Kingdom  \n",
       "462515  11/13/2011 13:27      12.50  15903.00000  United Kingdom  \n",
       "34415   12/17/2010 11:30       1.95  12782.00000        Portugal  \n",
       "47367     1/7/2011 10:27       2.95  13842.00000  United Kingdom  \n",
       "267975   7/18/2011 12:25       2.08  17841.00000  United Kingdom  \n",
       "166777   4/21/2011 16:17       1.63  15287.69057  United Kingdom  "
      ]
     },
     "execution_count": 36,
     "metadata": {},
     "output_type": "execute_result"
    }
   ],
   "source": [
    "df.sample(10)"
   ]
  },
  {
   "cell_type": "code",
   "execution_count": 38,
   "id": "ffea8c13-9f98-464c-80b6-44fa6dbabe24",
   "metadata": {
    "tags": []
   },
   "outputs": [
    {
     "data": {
      "text/plain": [
       "5268"
      ]
     },
     "execution_count": 38,
     "metadata": {},
     "output_type": "execute_result"
    }
   ],
   "source": [
    "# finding for duplicate values\n",
    "df.duplicated().sum()"
   ]
  },
  {
   "cell_type": "code",
   "execution_count": 40,
   "id": "b7e64a5e-8410-406b-b22a-a8d035fa90e6",
   "metadata": {
    "tags": []
   },
   "outputs": [
    {
     "data": {
      "text/plain": [
       "<function matplotlib.pyplot.show(close=None, block=None)>"
      ]
     },
     "execution_count": 40,
     "metadata": {},
     "output_type": "execute_result"
    },
    {
     "data": {
      "image/png": "[encoded data removed]",
      "text/plain": [
       "<Figure size 640x480 with 1 Axes>"
      ]
     },
     "metadata": {},
     "output_type": "display_data"
    }
   ],
   "source": [
    "# Finding outliers\n",
    "sns.boxplot(df)\n",
    "plt.show"
   ]
  },
  {
   "cell_type": "markdown",
   "id": "997f5967-0efd-4105-830f-f30a50d8eeab",
   "metadata": {
    "tags": []
   },
   "source": [
    "# Bar chart of Monthly Sales"
   ]
  },
  {
   "cell_type": "code",
   "execution_count": 43,
   "id": "1c1f6bf6-0da0-41b2-81ae-69363671c361",
   "metadata": {
    "tags": []
   },
   "outputs": [
    {
     "data": {
      "image/png": "[encoded data removed]",
      "text/plain": [
       "<Figure size 1000x500 with 1 Axes>"
      ]
     },
     "metadata": {},
     "output_type": "display_data"
    }
   ],
   "source": [
    "import matplotlib.pyplot as plt\n",
    "\n",
    "# Ensure 'InvoiceDate' is a datetime object\n",
    "df['InvoiceDate'] = pd.to_datetime(df['InvoiceDate'])\n",
    "\n",
    "# Extract the month from the 'InvoiceDate' and create a new column\n",
    "df['Month'] = df['InvoiceDate'].dt.month\n",
    "\n",
    "# Group by month and sum 'Quantity' (or 'UnitPrice * Quantity' for total sales)\n",
    "monthly_sales = df.groupby('Month')['Quantity'].sum()\n",
    "\n",
    "colors = ['lightgreen', 'lightblue', 'teal']\n",
    "# Plotting the bar chart\n",
    "plt.figure(figsize=(10, 5))\n",
    "plt.bar(monthly_sales.index, monthly_sales.values, color = colors)\n",
    "plt.title('Monthly Sales')\n",
    "plt.xlabel('Month')\n",
    "plt.ylabel('Sales (Quantity)')\n",
    "plt.show()\n"
   ]
  },
  {
   "cell_type": "markdown",
   "id": "8a6a3536-1c3d-4d2a-a462-4eb51254f4f6",
   "metadata": {
    "tags": []
   },
   "source": [
    "# Montly Sales Trend"
   ]
  },
  {
   "cell_type": "code",
   "execution_count": 46,
   "id": "d226dde8-6ebf-4628-ace8-f529637e6bce",
   "metadata": {
    "tags": []
   },
   "outputs": [
    {
     "data": {
      "image/png": "[encoded data removed]",
      "text/plain": [
       "<Figure size 1000x500 with 1 Axes>"
      ]
     },
     "metadata": {},
     "output_type": "display_data"
    }
   ],
   "source": [
    "# Line Chart\n",
    "# Ensure 'InvoiceDate' is a datetime object\n",
    "df['InvoiceDate'] = pd.to_datetime(df['InvoiceDate'])\n",
    "\n",
    "# Extract the month from the 'InvoiceDate' and create a new column\n",
    "df['Month'] = df['InvoiceDate'].dt.month\n",
    "\n",
    "# Group by month and sum 'Quantity' (or 'UnitPrice * Quantity' for total sales)\n",
    "monthly_sales = df.groupby('Month')['Quantity'].sum()\n",
    "\n",
    "colors = ['lightgreen', 'lightblue', 'teal']\n",
    "plt.figure(figsize=(10, 5))\n",
    "plt.plot(monthly_sales.index, monthly_sales.values, marker='o',color='coral' )\n",
    "plt.title('Monthly Sales Trend')\n",
    "plt.xlabel('Month')\n",
    "plt.ylabel('Sales')\n",
    "plt.show()"
   ]
  },
  {
   "cell_type": "code",
   "execution_count": 48,
   "id": "3a5303f2-f4b5-44b1-9207-f8aaa1379913",
   "metadata": {
    "tags": []
   },
   "outputs": [
    {
     "data": {
      "image/png": "[encoded data removed]",
      "text/plain": [
       "<Figure size 800x800 with 1 Axes>"
      ]
     },
     "metadata": {},
     "output_type": "display_data"
    }
   ],
   "source": [
    "# Ensure 'InvoiceDate' is a datetime object\n",
    "df['InvoiceDate'] = pd.to_datetime(df['InvoiceDate'])\n",
    "\n",
    "# Extract the month from the 'InvoiceDate' and create a new column\n",
    "df['Month'] = df['InvoiceDate'].dt.month\n",
    "\n",
    "# Group by month and sum 'Quantity' and 'TotalSales'\n",
    "monthly_sales_quantity = df.groupby('Month')['Quantity'].sum()\n",
    "df['TotalSales'] = df['Quantity'] * df['UnitPrice']\n",
    "monthly_sales_value = df.groupby('Month')['TotalSales'].sum()\n",
    "\n",
    "\n",
    "# Plotting a pie chart of sales by country\n",
    "country_sales = df.groupby('Country')['TotalSales'].sum().nlargest(5)\n",
    "\n",
    "plt.figure(figsize=(8, 8))\n",
    "colors = sns.color_palette('pastel')[0:5]\n",
    "plt.pie(country_sales, labels=country_sales.index, colors=colors, autopct='%1.1f%%', startangle=140)\n",
    "plt.title('Top 5 Countries by Sales Value')\n",
    "plt.show()\n",
    "\n",
    "\n"
   ]
  },
  {
   "cell_type": "code",
   "execution_count": 50,
   "id": "9e6461a3-e5be-4beb-ad79-e7c5dac7b00f",
   "metadata": {
    "tags": []
   },
   "outputs": [
    {
     "data": {
      "text/plain": [
       "Country\n",
       "United Kingdom          495478\n",
       "Germany                   9495\n",
       "France                    8557\n",
       "EIRE                      8196\n",
       "Spain                     2533\n",
       "Netherlands               2371\n",
       "Belgium                   2069\n",
       "Switzerland               2002\n",
       "Portugal                  1519\n",
       "Australia                 1259\n",
       "Norway                    1086\n",
       "Italy                      803\n",
       "Channel Islands            758\n",
       "Finland                    695\n",
       "Cyprus                     622\n",
       "Sweden                     462\n",
       "Unspecified                446\n",
       "Austria                    401\n",
       "Denmark                    389\n",
       "Japan                      358\n",
       "Poland                     341\n",
       "Israel                     297\n",
       "USA                        291\n",
       "Hong Kong                  288\n",
       "Singapore                  229\n",
       "Iceland                    182\n",
       "Canada                     151\n",
       "Greece                     146\n",
       "Malta                      127\n",
       "United Arab Emirates        68\n",
       "European Community          61\n",
       "RSA                         58\n",
       "Lebanon                     45\n",
       "Lithuania                   35\n",
       "Brazil                      32\n",
       "Czech Republic              30\n",
       "Bahrain                     19\n",
       "Saudi Arabia                10\n",
       "Name: count, dtype: int64"
      ]
     },
     "execution_count": 50,
     "metadata": {},
     "output_type": "execute_result"
    }
   ],
   "source": [
    "df['Country'].value_counts()"
   ]
  },
  {
   "cell_type": "code",
   "execution_count": 91,
   "id": "6f680b62-7c1c-4a01-982b-d06008d041f7",
   "metadata": {
    "tags": []
   },
   "outputs": [
    {
     "data": {
      "image/png": "[encoded data removed]",
      "text/plain": [
       "<Figure size 800x500 with 1 Axes>"
      ]
     },
     "metadata": {},
     "output_type": "display_data"
    }
   ],
   "source": [
    "color = ['orange', 'skyblue']\n",
    "plt.figure(figsize = (8, 5))\n",
    "df['Country'].value_counts(normalize = True).plot(kind ='bar', color='skyblue', edgecolor='black')\n",
    "plt.title('Bar plot of gender')\n",
    "plt.xlabel('Gender')\n",
    "plt.ylabel('Frequency')\n",
    "plt.show()"
   ]
  },
  {
   "cell_type": "code",
   "execution_count": null,
   "id": "f6a99451-65f2-4573-8690-66bfb08df1bc",
   "metadata": {},
   "outputs": [],
   "source": []
  },
  {
   "cell_type": "code",
   "execution_count": null,
   "id": "29eaba03-e95e-4fbe-9d35-a40f2197cf66",
   "metadata": {
    "tags": []
   },
   "outputs": [],
   "source": []
  },
  {
   "cell_type": "code",
   "execution_count": null,
   "id": "b80fe690-fbbe-4035-a6ff-3825323dfdcc",
   "metadata": {},
   "outputs": [],
   "source": []
  }
 ],
 "metadata": {
  "kernelspec": {
   "display_name": "Python 3 (ipykernel)",
   "language": "python",
   "name": "python3"
  },
  "language_info": {
   "codemirror_mode": {
    "name": "ipython",
    "version": 3
   },
   "file_extension": ".py",
   "mimetype": "text/x-python",
   "name": "python",
   "nbconvert_exporter": "python",
   "pygments_lexer": "ipython3",
   "version": "3.11.5"
  }
 },
 "nbformat": 4,
 "nbformat_minor": 5
}
